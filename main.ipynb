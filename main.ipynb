{
 "cells": [
  {
   "cell_type": "code",
   "execution_count": null,
   "metadata": {},
   "outputs": [],
   "source": [
    "##Importando bibliotecas\n",
    "import pandas as pd\n",
    "import matplotlib.pyplot as plt\n",
    "import numpy as np"
   ]
  },
  {
   "cell_type": "code",
   "execution_count": null,
   "metadata": {},
   "outputs": [],
   "source": [
    "##Importanto e lendo arquivo CSV\n",
    "lucas = pd.read_csv(\"train.csv\")"
   ]
  },
  {
   "cell_type": "code",
   "execution_count": null,
   "metadata": {},
   "outputs": [],
   "source": [
    "##Transformando arquivo em DataFrame\n",
    "df = pd.DataFrame(lucas)"
   ]
  },
  {
   "cell_type": "code",
   "execution_count": null,
   "metadata": {},
   "outputs": [],
   "source": [
    "##Exibindo type de dados do DataFrame\n",
    "\n",
    "print(df.dtypes)"
   ]
  },
  {
   "cell_type": "code",
   "execution_count": null,
   "metadata": {},
   "outputs": [],
   "source": [
    "#Checando duplicados\n",
    "duplicado = [df.duplicated()]\n",
    "print(\"Valores Duplicados\")\n",
    "duplicado"
   ]
  },
  {
   "cell_type": "code",
   "execution_count": null,
   "metadata": {},
   "outputs": [],
   "source": [
    "##Checando presença de nulos\n",
    "df.isnull().sum()"
   ]
  },
  {
   "cell_type": "code",
   "execution_count": null,
   "metadata": {},
   "outputs": [],
   "source": [
    "##Tratamento para registro de cabine\n",
    "df[\"Cabin\"].fillna(\"unregistered cabin\",inplace=True)"
   ]
  },
  {
   "cell_type": "code",
   "execution_count": null,
   "metadata": {},
   "outputs": [],
   "source": [
    "##Tratamento para registro de idade\n",
    "df[\"Age\"].fillna(0,inplace=True)"
   ]
  },
  {
   "cell_type": "code",
   "execution_count": null,
   "metadata": {},
   "outputs": [],
   "source": [
    "##Tratamento para registro de porto de embarcação\n",
    "df[\"Embarked\"].fillna(\"unregistered Embarked\",inplace=True)\n",
    "df= df.replace('C','Cherbourg')\n",
    "df= df.replace('Q','Queenstown')\n",
    "df= df.replace('S','Southampton')"
   ]
  },
  {
   "cell_type": "code",
   "execution_count": null,
   "metadata": {},
   "outputs": [],
   "source": [
    "##Normalizando número tikect\n",
    "##df['Ticket'] = df['Ticket'].str.extract('( )')\n",
    "\n",
    "##print(df.to_string())\n"
   ]
  },
  {
   "cell_type": "code",
   "execution_count": null,
   "metadata": {},
   "outputs": [],
   "source": [
    "##Checando presença de nulos\n",
    "df.isnull().sum()"
   ]
  },
  {
   "cell_type": "code",
   "execution_count": null,
   "metadata": {},
   "outputs": [],
   "source": [
    "##Criando colunas condicionais para classificar qual status de cada passageiro\n",
    "df.loc[df[\"Survived\"] == 0, \"Status\"] = \"Death\"\n",
    "df.loc[df[\"Survived\"] == 1, \"Status\"] = \"Alive\""
   ]
  },
  {
   "cell_type": "code",
   "execution_count": null,
   "metadata": {},
   "outputs": [],
   "source": [
    "df.Age = df.Age.astype(int)"
   ]
  },
  {
   "cell_type": "code",
   "execution_count": null,
   "metadata": {},
   "outputs": [],
   "source": [
    "##Exibindo o DataFrame com a nova classificação\n",
    "##print(df.to_string())"
   ]
  },
  {
   "cell_type": "code",
   "execution_count": null,
   "metadata": {},
   "outputs": [],
   "source": [
    "##Contando a ocorrencia de cada Status\n",
    "count_status = df['Status'].value_counts()"
   ]
  },
  {
   "cell_type": "code",
   "execution_count": null,
   "metadata": {},
   "outputs": [],
   "source": [
    "##Exibindo a contagem\n",
    "print(count_status)"
   ]
  },
  {
   "cell_type": "code",
   "execution_count": null,
   "metadata": {},
   "outputs": [],
   "source": [
    "##Contagem de registros com loop\n",
    "Death = 0\n",
    "Alive = 0\n",
    "for survived in df[\"Survived\"]:\n",
    "    if survived == 1:\n",
    "        Alive = Alive + 1\n",
    "    elif survived == 0:\n",
    "        Death = Death + 1\n",
    "print('Death:{}'.format(str(Death)))\n",
    "print('Alive:{}'.format(str(Alive)))"
   ]
  },
  {
   "cell_type": "code",
   "execution_count": null,
   "metadata": {},
   "outputs": [],
   "source": [
    "##Protando Gráfico\n",
    "count_status.plot(kind='barh', color = ['gray','blue'])"
   ]
  },
  {
   "cell_type": "code",
   "execution_count": null,
   "metadata": {},
   "outputs": [],
   "source": [
    "##Retirando os registros com idade 0\n",
    "df = df.query('Age > 0')\n",
    "print(df.to_string())"
   ]
  },
  {
   "cell_type": "code",
   "execution_count": null,
   "metadata": {},
   "outputs": [],
   "source": [
    "## Histograma com todos os passageiros\n",
    "\n",
    "df.hist(column='Age', bins=10, color = 'yellow')\n",
    "plt.show()"
   ]
  },
  {
   "cell_type": "code",
   "execution_count": null,
   "metadata": {},
   "outputs": [],
   "source": [
    "## Filtrar somente passageiros que sobreviveram + Histograma\n",
    "\n",
    "Alive = df.query('Status == \"Alive\"')\n",
    "\n",
    "Alive.hist(column='Age', bins=10, color = 'blue')\n",
    "plt.show()"
   ]
  },
  {
   "cell_type": "code",
   "execution_count": null,
   "metadata": {},
   "outputs": [],
   "source": [
    "## Filtrar somente passageiros que não sobreviveram + Histograma\n",
    "\n",
    "Death = df.query('Status == \"Death\"')\n",
    "\n",
    "Death.hist(column='Age', bins=10, color = 'red')\n",
    "plt.show()"
   ]
  },
  {
   "cell_type": "code",
   "execution_count": null,
   "metadata": {},
   "outputs": [],
   "source": [
    "for dataframe in df.Status.value_counts():\n",
    "    print (dataframe)"
   ]
  }
 ],
 "metadata": {
  "kernelspec": {
   "display_name": "Python 3.10.3 64-bit",
   "language": "python",
   "name": "python3"
  },
  "language_info": {
   "codemirror_mode": {
    "name": "ipython",
    "version": 3
   },
   "file_extension": ".py",
   "mimetype": "text/x-python",
   "name": "python",
   "nbconvert_exporter": "python",
   "pygments_lexer": "ipython3",
   "version": "3.10.3"
  },
  "orig_nbformat": 4,
  "vscode": {
   "interpreter": {
    "hash": "37083a178839ddb6837eca99e3841ef7be6dad5dc50c6d19829e2187d61ddd5d"
   }
  }
 },
 "nbformat": 4,
 "nbformat_minor": 2
}
